{
 "cells": [
  {
   "cell_type": "markdown",
   "id": "d4701d0d",
   "metadata": {
    "_cell_guid": "b1076dfc-b9ad-4769-8c92-a6c4dae69d19",
    "_uuid": "8f2839f25d086af736a60e9eeb907d3b93b6e0e5",
    "papermill": {
     "duration": 0.002912,
     "end_time": "2024-03-09T01:10:05.758909",
     "exception": false,
     "start_time": "2024-03-09T01:10:05.755997",
     "status": "completed"
    },
    "tags": []
   },
   "source": [
    "# Dungoza Test \n",
    "\n",
    "<img src=\"https://i.postimg.cc/0yjLLRwv/image.png\" width=\"100px\">\n",
    "\n",
    "> Enjoy strong scenets of woamanx"
   ]
  },
  {
   "cell_type": "code",
   "execution_count": 1,
   "id": "70d5d522",
   "metadata": {
    "execution": {
     "iopub.execute_input": "2024-03-09T01:10:05.765805Z",
     "iopub.status.busy": "2024-03-09T01:10:05.765228Z",
     "iopub.status.idle": "2024-03-09T01:10:05.876619Z",
     "shell.execute_reply": "2024-03-09T01:10:05.875827Z"
    },
    "papermill": {
     "duration": 0.117337,
     "end_time": "2024-03-09T01:10:05.878836",
     "exception": false,
     "start_time": "2024-03-09T01:10:05.761499",
     "status": "completed"
    },
    "tags": []
   },
   "outputs": [],
   "source": [
    "# Pretty Bush\n",
    "# ------------------------------------------------------\n",
    "from rich import print as rprint # For rprinting\n",
    "from rich.pretty import pprint # For pretty printing\n",
    "from rich import inspect # For inspect\n",
    "from rich.console import Console # For console.print\n",
    "from rich.markdown import Markdown # For markdown\n",
    "from rich.panel import Panel # For Panel()\n",
    "from rich import box # For Panel Boxes\n",
    "from rich.prompt import Prompt # For Prompting \n",
    "console = Console() # Standard code to access console\n",
    "# -------------------------------------------------------"
   ]
  },
  {
   "cell_type": "code",
   "execution_count": 2,
   "id": "3f09bfa5",
   "metadata": {
    "execution": {
     "iopub.execute_input": "2024-03-09T01:10:05.885807Z",
     "iopub.status.busy": "2024-03-09T01:10:05.885185Z",
     "iopub.status.idle": "2024-03-09T01:10:23.308864Z",
     "shell.execute_reply": "2024-03-09T01:10:23.307587Z"
    },
    "papermill": {
     "duration": 17.430099,
     "end_time": "2024-03-09T01:10:23.311542",
     "exception": false,
     "start_time": "2024-03-09T01:10:05.881443",
     "status": "completed"
    },
    "scrolled": true,
    "tags": []
   },
   "outputs": [
    {
     "name": "stdout",
     "output_type": "stream",
     "text": [
      "\u001b[31mERROR: pip's dependency resolver does not currently take into account all the packages that are installed. This behaviour is the source of the following dependency conflicts.\r\n",
      "tensorflow-decision-forests 1.8.1 requires wurlitzer, which is not installed.\r\n",
      "botocore 1.34.34 requires urllib3<2.1,>=1.25.4; python_version >= \"3.10\", but you have urllib3 2.2.1 which is incompatible.\r\n",
      "kfp 2.5.0 requires google-cloud-storage<3,>=2.2.1, but you have google-cloud-storage 1.44.0 which is incompatible.\r\n",
      "kfp 2.5.0 requires urllib3<2.0.0, but you have urllib3 2.2.1 which is incompatible.\r\n",
      "tensorflow 2.15.0 requires keras<2.16,>=2.15.0, but you have keras 3.0.5 which is incompatible.\r\n",
      "ydata-profiling 4.6.4 requires numpy<1.26,>=1.16.0, but you have numpy 1.26.4 which is incompatible.\u001b[0m\u001b[31m\r\n",
      "\u001b[0m"
     ]
    }
   ],
   "source": [
    "# Install the client \n",
    "!pip install -q dune-client\n"
   ]
  },
  {
   "cell_type": "markdown",
   "id": "06c872bb",
   "metadata": {
    "papermill": {
     "duration": 0.002329,
     "end_time": "2024-03-09T01:10:23.316578",
     "exception": false,
     "start_time": "2024-03-09T01:10:23.314249",
     "status": "completed"
    },
    "tags": []
   },
   "source": [
    "## Running\n",
    "\n",
    "Taking from the main docs "
   ]
  },
  {
   "cell_type": "code",
   "execution_count": 3,
   "id": "c6b7b9b9",
   "metadata": {
    "execution": {
     "iopub.execute_input": "2024-03-09T01:10:23.323994Z",
     "iopub.status.busy": "2024-03-09T01:10:23.323183Z",
     "iopub.status.idle": "2024-03-09T01:10:23.519632Z",
     "shell.execute_reply": "2024-03-09T01:10:23.518738Z"
    },
    "papermill": {
     "duration": 0.202868,
     "end_time": "2024-03-09T01:10:23.521990",
     "exception": false,
     "start_time": "2024-03-09T01:10:23.319122",
     "status": "completed"
    },
    "scrolled": true,
    "tags": []
   },
   "outputs": [],
   "source": [
    "# Code for adding the sec\n",
    "from kaggle_secrets import UserSecretsClient\n",
    "user_secrets = UserSecretsClient()\n",
    "du_pussy = user_secrets.get_secret(\"bd1\")\n",
    "\n",
    "# Examine The dirty panty 👃\n",
    "# inspect(du_pussy, all=True)"
   ]
  },
  {
   "cell_type": "markdown",
   "id": "ebbc3add",
   "metadata": {
    "papermill": {
     "duration": 0.002256,
     "end_time": "2024-03-09T01:10:23.526910",
     "exception": false,
     "start_time": "2024-03-09T01:10:23.524654",
     "status": "completed"
    },
    "tags": []
   },
   "source": [
    "## Code Tests \n"
   ]
  },
  {
   "cell_type": "code",
   "execution_count": 4,
   "id": "1e987537",
   "metadata": {
    "execution": {
     "iopub.execute_input": "2024-03-09T01:10:23.533088Z",
     "iopub.status.busy": "2024-03-09T01:10:23.532730Z",
     "iopub.status.idle": "2024-03-09T01:10:23.875335Z",
     "shell.execute_reply": "2024-03-09T01:10:23.874299Z"
    },
    "papermill": {
     "duration": 0.348292,
     "end_time": "2024-03-09T01:10:23.877571",
     "exception": false,
     "start_time": "2024-03-09T01:10:23.529279",
     "status": "completed"
    },
    "tags": []
   },
   "outputs": [
    {
     "name": "stdout",
     "output_type": "stream",
     "text": [
      "Results available at https://dune.com/queries/3503482?TextField=Word&NumberField=3.1415926535&DateField=2022-05-04+00%3A00%3A00&EnumField=Option+1\n"
     ]
    }
   ],
   "source": [
    "from dune_client.types import QueryParameter\n",
    "from dune_client.client import DuneClient\n",
    "from dune_client.query import QueryBase\n",
    "\n",
    "query = QueryBase(\n",
    "    name=\"Sample Query\",\n",
    "    query_id=3503482,\n",
    "    params=[\n",
    "        QueryParameter.text_type(name=\"TextField\", value=\"Word\"),\n",
    "        QueryParameter.number_type(name=\"NumberField\", value=3.1415926535),\n",
    "        QueryParameter.date_type(name=\"DateField\", value=\"2022-05-04 00:00:00\"),\n",
    "        QueryParameter.enum_type(name=\"EnumField\", value=\"Option 1\"),\n",
    "    ],\n",
    ")\n",
    "print(\"Results available at\", query.url())\n"
   ]
  }
 ],
 "metadata": {
  "kaggle": {
   "accelerator": "none",
   "dataSources": [],
   "dockerImageVersionId": 30664,
   "isGpuEnabled": false,
   "isInternetEnabled": true,
   "language": "python",
   "sourceType": "notebook"
  },
  "kernelspec": {
   "display_name": "Python 3",
   "language": "python",
   "name": "python3"
  },
  "language_info": {
   "codemirror_mode": {
    "name": "ipython",
    "version": 3
   },
   "file_extension": ".py",
   "mimetype": "text/x-python",
   "name": "python",
   "nbconvert_exporter": "python",
   "pygments_lexer": "ipython3",
   "version": "3.10.13"
  },
  "papermill": {
   "default_parameters": {},
   "duration": 21.122783,
   "end_time": "2024-03-09T01:10:24.299627",
   "environment_variables": {},
   "exception": null,
   "input_path": "__notebook__.ipynb",
   "output_path": "__notebook__.ipynb",
   "parameters": {},
   "start_time": "2024-03-09T01:10:03.176844",
   "version": "2.5.0"
  }
 },
 "nbformat": 4,
 "nbformat_minor": 5
}
